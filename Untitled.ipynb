{
 "cells": [
  {
   "cell_type": "code",
   "execution_count": 1,
   "id": "44f7fa5a-f6c6-425c-b718-6805ba3b5462",
   "metadata": {},
   "outputs": [
    {
     "name": "stdout",
     "output_type": "stream",
     "text": [
      "After swapping:\n",
      "x = 10\n",
      "y = 5\n"
     ]
    }
   ],
   "source": [
    "x = 5\n",
    "y = 10\n",
    "# Swap values without using a temporary variable\n",
    "x, y = y, x\n",
    "print(\"After swapping:\")\n",
    "print(\"x =\", x)\n",
    "print(\"y =\", y)"
   ]
  },
  {
   "cell_type": "code",
   "execution_count": 2,
   "id": "5ef504ff-1de7-4884-bd78-10b949491058",
   "metadata": {},
   "outputs": [
    {
     "name": "stdin",
     "output_type": "stream",
     "text": [
      "Enter Length:  12\n",
      "Enter Breadth:  10\n"
     ]
    },
    {
     "name": "stdout",
     "output_type": "stream",
     "text": [
      "Area of Reactangle is  120.0\n"
     ]
    }
   ],
   "source": [
    "l= float(input(\"Enter Length: \"))\n",
    "b= float(input(\"Enter Breadth: \"))\n",
    "area = l*b\n",
    "print(\"Area of Reactangle is \",area)"
   ]
  },
  {
   "cell_type": "code",
   "execution_count": 3,
   "id": "100f0c1e-c8d9-4112-8003-eee3f2fadb42",
   "metadata": {},
   "outputs": [
    {
     "name": "stdin",
     "output_type": "stream",
     "text": [
      "Enter Temperature in Celsius 45\n"
     ]
    },
    {
     "name": "stdout",
     "output_type": "stream",
     "text": [
      "Temperature in Fahrenheit is  113.0\n"
     ]
    }
   ],
   "source": [
    "celsius=float(input(\"Enter Temperature in Celsius\"))\n",
    "fahrenheit=(celsius * 9/5)+32\n",
    "print(\"Temperature in Fahrenheit is \",fahrenheit)"
   ]
  },
  {
   "cell_type": "code",
   "execution_count": 6,
   "id": "93bd1235-1b7d-4aa0-8bf0-4e13883bf251",
   "metadata": {},
   "outputs": [
    {
     "name": "stdin",
     "output_type": "stream",
     "text": [
      "Enter a String:  aayush\n"
     ]
    },
    {
     "name": "stdout",
     "output_type": "stream",
     "text": [
      "6\n"
     ]
    }
   ],
   "source": [
    "s= str(input(\"Enter a String: \"))\n",
    "print(len(s))"
   ]
  },
  {
   "cell_type": "code",
   "execution_count": 10,
   "id": "4e834b88-66cc-425e-b34e-d26678462081",
   "metadata": {},
   "outputs": [
    {
     "name": "stdin",
     "output_type": "stream",
     "text": [
      "Enter a sentence:  aanchal\n"
     ]
    },
    {
     "name": "stdout",
     "output_type": "stream",
     "text": [
      "Number of vowels in the sentence: 3\n"
     ]
    }
   ],
   "source": [
    "sentence = input(\"Enter a sentence: \")\n",
    "vowel = 0\n",
    "for char in sentence:\n",
    "    if char in \"aeiou\":\n",
    "        vowel += 1\n",
    "print(\"Number of vowels in the sentence:\", vowel)\n"
   ]
  },
  {
   "cell_type": "code",
   "execution_count": 12,
   "id": "3daec111-7f41-461e-9e07-7b1ff8aa14a2",
   "metadata": {},
   "outputs": [
    {
     "name": "stdin",
     "output_type": "stream",
     "text": [
      "Enter a String:  aayush\n"
     ]
    },
    {
     "name": "stdout",
     "output_type": "stream",
     "text": [
      "Reverse of  aayush  is  hsuyaa\n"
     ]
    }
   ],
   "source": [
    "a=str(input(\"Enter a String: \"))\n",
    "print(\"Reverse of \",a,\" is \",a[::-1])"
   ]
  },
  {
   "cell_type": "code",
   "execution_count": 16,
   "id": "0b1c7ae8-cb37-4ba1-b241-9d7541af4b6e",
   "metadata": {},
   "outputs": [
    {
     "name": "stdin",
     "output_type": "stream",
     "text": [
      "Enter a String:  aayush\n"
     ]
    },
    {
     "name": "stdout",
     "output_type": "stream",
     "text": [
      "aayush  is not Palindrome\n"
     ]
    }
   ],
   "source": [
    "a=str(input(\"Enter a String: \"))\n",
    "b=a[::-1]\n",
    "if(a==b):\n",
    "    print(a,\" is Palindrome\")\n",
    "else:\n",
    "    print(a,\" is not Palindrome\")"
   ]
  },
  {
   "cell_type": "code",
   "execution_count": 17,
   "id": "8e57b823-38dd-4a6d-b3f0-f32a6b7c12a1",
   "metadata": {},
   "outputs": [
    {
     "name": "stdin",
     "output_type": "stream",
     "text": [
      "Enter a string:  aayush kumar\n"
     ]
    },
    {
     "name": "stdout",
     "output_type": "stream",
     "text": [
      "Modified string without spaces: aayushkumar\n"
     ]
    }
   ],
   "source": [
    "input_string = input(\"Enter a string: \")\n",
    "modified_string = input_string.replace(\" \", \"\")\n",
    "print(\"Modified string without spaces:\", modified_string)"
   ]
  }
 ],
 "metadata": {
  "kernelspec": {
   "display_name": "Python 3 (ipykernel)",
   "language": "python",
   "name": "python3"
  },
  "language_info": {
   "codemirror_mode": {
    "name": "ipython",
    "version": 3
   },
   "file_extension": ".py",
   "mimetype": "text/x-python",
   "name": "python",
   "nbconvert_exporter": "python",
   "pygments_lexer": "ipython3",
   "version": "3.10.8"
  }
 },
 "nbformat": 4,
 "nbformat_minor": 5
}
